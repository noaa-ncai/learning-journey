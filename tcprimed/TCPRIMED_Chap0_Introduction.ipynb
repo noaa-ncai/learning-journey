{
 "cells": [
  {
   "cell_type": "markdown",
   "id": "a1e3ec6e",
   "metadata": {
    "id": "a1e3ec6e"
   },
   "source": [
    "# What is TC PRIMED?\n",
    "The [Tropical Cyclone Precipitation, Infrared, Microwave, and Environmental Dataset (TC PRIMED)](https://rammb-data.cira.colostate.edu/tcprimed/) is a dataset centered around satellite passive microwave observations of tropical cyclones. Passive microwave observations are useful in providing various information on the state of the atmosphere, such as the amount of water vapor, the presence of precipitation, and the strength of convection. Forecasters use passive microwave observations to gain insight into the structure of tropical cyclones, especially if the tropical cyclone is beyond the reach of conventional ground-based observations like radars. However, since passive microwave sensors are only available aboard low-Earth orbiting satellites, passive microwave observations of tropical cyclones depend on the fortuitous combination of the satellite orbit path and the path of the tropical cyclone. TC PRIMED contains the collocated satellite passive microwave observations of tropical cyclones, allowing users to simply focus on its application.\n",
    "\n",
    "In addition to satellite passive microwave observations of tropical cyclones, TC PRIMED also provides information on the tropical cyclone, such as its location and intensity, as well as information on the tropical cyclone environment from environmental diagnostics and reanalysis fields. The environmental diagnostics is generally a single-value representation of the state of the tropical cyclone environment, such as the strength of the environmental vertical shear of the horizontal wind or the environmental humidity. Forecasters use these environmental diagnostics to inform their predictions of the tropical cyclone. TC PRIMED provides environmental diagnostics calculated from the [version 5 of the ECMWF Re-Analysis (ERA5)](https://www.ecmwf.int/en/forecasts/dataset/ecmwf-reanalysis-v5) along with the relevant ERA5 environmental fields around the tropical cyclone.\n",
    "\n",
    "Altogether, TC PRIMED data is stored in two different file types:\n",
    "- the overpass file\n",
    "- the environmental file\n",
    "\n",
    "The overpass file contains observations from **a single satellite overpass** of a tropical cyclone, such as:\n",
    "- information about the sensor and satellite type\n",
    "- information about the tropical cyclone at the overpass time\n",
    "- inter-calibrated passive microwave brightness temperatures\n",
    "- retrieved precipitation from NASA's Goddard PROFiling algorithm (GPROF)\n",
    "- variables from a combined radar-radiometer product for satellites that carry precipitation radars (i.e., the TRMM or GPM, if radar data is available)\n",
    "- nearly co-incident infrared brightness temperatures from a geostationary satellite (if available)\n",
    "\n",
    "The environmental file contains **all of the information for one tropical cyclone**, which includes:\n",
    "- information about all the sensors and satellites available for that tropical cyclone\n",
    "- information about the tropical cyclone at all of the available overpass times\n",
    "- information about the tropical cyclone at synoptic times throughout the tropical cyclone's life\n",
    "- environmental diagnostics at synoptic times throughout the tropical cyclone's life\n",
    "- environmental fields at synoptic times throughout the tropical cyclone's life\n",
    "\n",
    "TC PRIMED employs NetCDF Groups to store these data. In this set of learning journey notebooks, you will use the Python programming language to familiarize yourself with NetCDF files and groups, the structure of TC PRIMED data, how to plot TC PRIMED data, and, ultimately, how use TC PRIMED data for analysis and machine learning.\n",
    "\n",
    "This set of learning journey notebooks is divided into the following chapters:\n",
    "- Chapter 1a: NetCDF Files\n",
    "- Chapter 1b: The Overpass File\n",
    "- Chapter 1c: The Environmental File\n",
    "- Chapter 2: Composite Analysis\n",
    "- Chapter 3: Pixel-based Artificial Neural Network Application\n",
    "- Chapter 4: Re-gridding Satellite Swath Data"
   ]
  },
  {
   "cell_type": "code",
   "execution_count": null,
   "id": "702136eb",
   "metadata": {
    "id": "702136eb"
   },
   "outputs": [],
   "source": []
  }
 ],
 "metadata": {
  "colab": {
   "provenance": []
  },
  "kernelspec": {
   "display_name": "Python 3 (ipykernel)",
   "language": "python",
   "name": "python3"
  },
  "language_info": {
   "codemirror_mode": {
    "name": "ipython",
    "version": 3
   },
   "file_extension": ".py",
   "mimetype": "text/x-python",
   "name": "python",
   "nbconvert_exporter": "python",
   "pygments_lexer": "ipython3",
   "version": "3.9.15"
  },
  "toc": {
   "base_numbering": 1,
   "nav_menu": {},
   "number_sections": true,
   "sideBar": true,
   "skip_h1_title": false,
   "title_cell": "Table of Contents",
   "title_sidebar": "Contents",
   "toc_cell": false,
   "toc_position": {},
   "toc_section_display": true,
   "toc_window_display": false
  }
 },
 "nbformat": 4,
 "nbformat_minor": 5
}
