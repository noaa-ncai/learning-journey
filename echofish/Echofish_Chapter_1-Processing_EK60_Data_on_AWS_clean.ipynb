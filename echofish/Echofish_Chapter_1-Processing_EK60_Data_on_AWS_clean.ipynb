{
  "cells": [
    {
      "cell_type": "markdown",
      "metadata": {
        "id": "rISPyRTzq3A4"
      },
      "source": [
        "# Processing EK60 Data on AWS\n",
        "\n",
        "- Creators: Rudy Klucik<sup>1</sup>, Veronica Martinez<sup>1</sup>, Charles Anderson<sup>1</sup>, and Carrie Wall<sup>1</sup>\n",
        "- Affiliations: <sup>1</sup>Cooperative Institute for Research in Environmental Sciences ([CIRES](https://cires.colorado.edu/))\n",
        "- History:\n",
        "    - Version 1, 2024-09-27"
      ]
    },
    {
      "cell_type": "markdown",
      "metadata": {
        "id": "nZd3k7wB7jB-"
      },
      "source": [
        "## Overview\n",
        "\n",
        "This tutorial demonstrates how to process Simrad EK60 (18-710 kHz, split beam) echosounder data in the cloud using [`echopype`](https://echopype.readthedocs.io/en/stable/), an open-source, python-based module for reading, processing, and visualizing water-column echosounder files developed by scientists at the University of Washington.\n",
        "\n",
        "## Prerequisites\n",
        "To successfully navigate and use this notebook, you should be familiar with:\n",
        "\n",
        "- the basics of Python programming such as loading modules assigning variables, and list/array indexing\n",
        "- plotting data using matplotlib\n",
        "\n",
        "## Learning Outcomes\n",
        "By working through this notebook, you will learn how to:\n",
        "\n",
        "- access and read a raw EK60 file from an AWS S3 bucket\n",
        "- find the calibrated volume backscattering strength (Sv)\n",
        "- plot water column sonar data\n",
        "\n",
        "## Time Estimate\n",
        "- Estimated text reading time: 6 to 11 min\n",
        "- Estimated code reading time: 2 to 4 min\n",
        "- Estimated total reading time: 8 to 15 min"
      ]
    },
    {
      "cell_type": "markdown",
      "metadata": {
        "id": "cabLRt3S-Hly"
      },
      "source": [
        "## Background\n",
        "\n",
        "Water column sonar data, the acoustic back-scatter from the near-surface to the seafloor, are used to assess physical and biological characteristics of the ocean including the spatial distribution of plankton, fish, methane seeps, and underwater oil plumes. There are a variety of sonar systems including single and multibeam echosounders using single frequency, multiple frequencies, or wideband technology.\n",
        "\n",
        " These systems deliver valuable information for ecosystem-based fisheries management but they also produce large data volumes that are costly and complicated to maintain. In collaboration with NOAA Fisheries and CIRES, NCEI archives water column sonar data collected from NOAA, academic, and internationals fleets. Archived data are globally accessible through the archive's [data portal](https://www.ncei.noaa.gov/maps/water-column-sonar/) as well as on Amazon Web Services through the NOAA Open Data Dissemintation Program ([NODD](https://www.noaa.gov/information-technology/open-data-dissemination)).\n",
        "\n",
        " The native sonar data are large, complex, and recorded in instrument-specific binary file formats. Embedded in the native file's metadata and datagrams are a number of fields including sonar configuration information, navigation information, calibration coefficients and power data from single or multiple sonar frequencies. File names contain the start time for that file, and often include a preceding tag for that cruise or deployment. The timestamp in UTC follows the convention: ‘D’YYYYMMDD’-T’hhmmss. For example, “SaKe2015-D20150719-T193412”, indicates a file from a 2015 SaKe cruise and the start of the file is July 19, 2013 at 19:34:12 (UTC).\n",
        "\n",
        "The largest volume of raw sonar data in the [NCEI archive](https://www.ncei.noaa.gov/products/water-column-sonar-data) were collected using Simrad EK60 (18-710 kHz, split beam) and EK80 (18-710 kHz, split beam and broadband) echosounders."
      ]
    },
    {
      "cell_type": "markdown",
      "metadata": {
        "id": "LBuQ6oagxYf-"
      },
      "source": [
        "## Installing and importing libraries\n",
        "\n",
        "We will first need to install a couple Python libraries for accessing and processing data. One library used for water column sonar data is `echopype`. The following code check if the libraries are already installed in your environment and install the missing libraries."
      ]
    },
    {
      "cell_type": "code",
      "execution_count": null,
      "metadata": {
        "id": "iANyams1RjBp"
      },
      "outputs": [],
      "source": [
        "# sys provides access to system level information (i.e., the executable for the Python installation)\n",
        "import sys\n",
        "# subprocess makes system level calls\n",
        "import subprocess\n",
        "\n",
        "# List of packages used in this notebook\n",
        "PACKAGES = [\"boto3\", \"botocore\", \"echopype\"]\n",
        "\n",
        "# Loop through each package to either import or install\n",
        "for package in PACKAGES:\n",
        "    try:\n",
        "        # First, attempt to import the package\n",
        "        __import__(package)\n",
        "    except ImportError:\n",
        "        # If package import is unsuccessful, install using pip\n",
        "        # The command structure is <python executable> -m pip install <package>\n",
        "        if package == 'echopype': package = 'echopype==0.7.1'\n",
        "        subprocess.check_call([sys.executable, '-m', 'pip', 'install', package])"
      ]
    },
    {
      "cell_type": "markdown",
      "metadata": {
        "id": "mK7e6LmGRlCG"
      },
      "source": [
        "Next import the libraries:"
      ]
    },
    {
      "cell_type": "code",
      "execution_count": null,
      "metadata": {
        "id": "ug9LCb0ACIl1"
      },
      "outputs": [],
      "source": [
        "import os\n",
        "import boto3\n",
        "\n",
        "import echopype.visualize as epviz\n",
        "import matplotlib.pyplot as plt\n",
        "import echopype as ep\n",
        "\n",
        "#import warnings\n",
        "#warnings.simplefilter(\"ignore\", category=DeprecationWarning)"
      ]
    },
    {
      "cell_type": "code",
      "execution_count": null,
      "metadata": {
        "colab": {
          "base_uri": "https://localhost:8080/"
        },
        "id": "cGRVH4jBOgBn",
        "outputId": "f72e2237-2452-430f-8aca-1406ab003c5b"
      },
      "outputs": [],
      "source": [
        "print(f\"echopype version: {ep.__version__}\")"
      ]
    },
    {
      "cell_type": "markdown",
      "metadata": {
        "id": "bxuQszApxmRp"
      },
      "source": [
        "## Public Data\n",
        "\n",
        "Publically available data can be accessed from an S3 bucket managed by NOAA's National Centers for Environmental Information. Over 250 TB of data are available for download.\n",
        "\n",
        "\n",
        "More information on the NOAA Water-Column Sonar Data Archive can be found at the [registry of open data on AWS](https://registry.opendata.aws/ncei-wcsd-archive/)\n",
        "\n",
        "Files can be easily explored using the [AWS bucket explorer.](https://noaa-wcsd-pds.s3.amazonaws.com/index.html#data/raw/Henry_B._Bigelow/HB0707/EK60/)\n",
        "\n",
        "The format of the files we will process follow a URL format as follows:\n",
        "\n",
        "> `https://<Bucket Name>.s3.amazonaws.com/data/raw/<Ship Name>/<Cruise Name>/<Sensor Name>/<File Name>`\n",
        "\n",
        "For example:\n",
        "\n",
        "> `https://noaa-wcsd-pds.s3.amazonaws.com/data/raw/Bell_M._Shimada/SH1507/EK60/SaKe2015-D20150719-T193412.raw`\n",
        "\n",
        "And to learn more about [NCEI's Water Column Sonar Data Archive.](https://www.ncei.noaa.gov/products/water-column-sonar-data)"
      ]
    },
    {
      "cell_type": "markdown",
      "metadata": {
        "id": "kdw_5dplIvBx"
      },
      "source": [
        "## Reading the Data\n",
        "\n",
        "First, we will read data from an S3 bucket. The following code reads files passed to it, stores the data in an object, retrieves values from the data, and appends and inserts data from different sampled intervals."
      ]
    },
    {
      "cell_type": "code",
      "execution_count": null,
      "metadata": {
        "id": "DGc26unVxk62"
      },
      "outputs": [],
      "source": [
        "bucket_name = 'noaa-wcsd-pds'\n",
        "\n",
        "ship_name = 'Bell_M._Shimada'\n",
        "cruise_name = 'SH1507'\n",
        "sensor_name = 'EK60'\n",
        "file_names = [\n",
        "  \"SaKe2015-D20150719-T193412.raw\",\n",
        "  \"SaKe2015-D20150719-T193443.raw\",\n",
        "  \"SaKe2015-D20150719-T194042.raw\",\n",
        "  \"SaKe2015-D20150719-T194642.raw\",\n",
        "  \"SaKe2015-D20150719-T195242.raw\",\n",
        "  \"SaKe2015-D20150719-T195842.raw\"\n",
        "]"
      ]
    },
    {
      "cell_type": "markdown",
      "metadata": {
        "id": "QccYpmGh7bDc"
      },
      "source": [
        "The next step is to download the raw EK60 files from the S3 public dataset, 'noaa-wcsd-pds.' To do this we will use a library called \"boto3.\" This is a library that gives you access to a full suite of AWS tools, we are just going to use it to download a file from an S3 bucket, and we will do so anonymously using the \"UNSIGNED\" configuration below."
      ]
    },
    {
      "cell_type": "code",
      "execution_count": null,
      "metadata": {
        "colab": {
          "base_uri": "https://localhost:8080/"
        },
        "id": "H1ISR97lBIPg",
        "outputId": "827af083-bf7a-40f6-87c4-6b8e59c8318b"
      },
      "outputs": [],
      "source": [
        "from botocore import UNSIGNED\n",
        "from botocore.client import Config\n",
        "\n",
        "s3 = boto3.client(service_name='s3', config=Config(signature_version=UNSIGNED))\n",
        "for file_name in file_names:\n",
        "  s3.download_file(\n",
        "      Bucket=bucket_name,\n",
        "      Key=f'data/raw/{ship_name}/{cruise_name}/{sensor_name}/{file_name}',\n",
        "      Filename=os.path.basename(file_name),\n",
        "  )\n",
        "  print(os.path.basename(file_name))"
      ]
    },
    {
      "cell_type": "markdown",
      "metadata": {
        "id": "o54fBQ6F8Chv"
      },
      "source": [
        "Next verify that the files were downloaded locally by listing files in the current directory."
      ]
    },
    {
      "cell_type": "code",
      "execution_count": null,
      "metadata": {
        "colab": {
          "base_uri": "https://localhost:8080/"
        },
        "id": "qECStSa-E1bi",
        "outputId": "86d240fb-4628-4dd7-9f67-c76c9abc764b"
      },
      "outputs": [],
      "source": [
        "os.listdir()"
      ]
    },
    {
      "cell_type": "markdown",
      "metadata": {
        "id": "61ZD43fQFRJb"
      },
      "source": [
        "## Opening the files with echopype\n",
        "\n",
        "[`Echopype`](https://echopype.readthedocs.io/en/stable/index.html) is a python package that enables processing of ocean sonar data. We will use this package to read and process the data files that were downloaded."
      ]
    },
    {
      "cell_type": "code",
      "execution_count": null,
      "metadata": {
        "colab": {
          "base_uri": "https://localhost:8080/"
        },
        "id": "MzBWw-ULE95I",
        "outputId": "d17db7d1-20eb-4192-cc83-54e7986c0cc5"
      },
      "outputs": [],
      "source": [
        "echodata = []\n",
        "for i in range(len(file_names)):\n",
        "  print(f\"Processing: {file_names[i]}\")\n",
        "  echodata.append(ep.open_raw(raw_file=file_names[i], sonar_model=sensor_name))"
      ]
    },
    {
      "cell_type": "markdown",
      "metadata": {
        "id": "71TgzHmjPpOh"
      },
      "source": [
        "We can look at the structure of the data by referencing the first file as follows:"
      ]
    },
    {
      "cell_type": "code",
      "execution_count": null,
      "metadata": {
        "colab": {
          "base_uri": "https://localhost:8080/",
          "height": 589
        },
        "id": "zKVQXHAOPvdg",
        "outputId": "7463fedc-79db-4fed-aba8-5248d60da72b"
      },
      "outputs": [],
      "source": [
        "echodata[0]"
      ]
    },
    {
      "cell_type": "markdown",
      "metadata": {
        "id": "e8Je5nEOPyqS"
      },
      "source": [
        "Echopype organizes the data similar to Xarray's Datasets. Subsets and DataArrays can be accessed via the dot operator, e.g. to access the echodata environment variables you can add \".environment\" to the end of the variable.\n",
        "\n",
        "You will see that an echodata environment variable is composed of:\n",
        "\n",
        "\n",
        "*   Dimensions\n",
        "*   Coordinates\n",
        "*   Data Variables\n",
        "*   Indexes\n",
        "*   Attributes"
      ]
    },
    {
      "cell_type": "code",
      "execution_count": null,
      "metadata": {
        "colab": {
          "base_uri": "https://localhost:8080/",
          "height": 291
        },
        "id": "-a34xHBpQLA6",
        "outputId": "af37bacd-6e8e-4b8a-bbca-fbb61aa87018"
      },
      "outputs": [],
      "source": [
        "echodata[0].environment"
      ]
    },
    {
      "cell_type": "markdown",
      "metadata": {
        "id": "ZX_GATphQgDV"
      },
      "source": [
        "Right now our echodata variable is just an array or individually opened echodata objects. Those objects can be combined to form a single echodata object as follows:"
      ]
    },
    {
      "cell_type": "code",
      "execution_count": null,
      "metadata": {
        "id": "r5EmaJpdSCFM"
      },
      "outputs": [],
      "source": [
        "# this code deletes any existing zarr files if you run this notebook more than once\n",
        "!rm -rf /root/.echopype/temp_output/combined_echodata.zarr"
      ]
    },
    {
      "cell_type": "code",
      "execution_count": null,
      "metadata": {
        "colab": {
          "base_uri": "https://localhost:8080/"
        },
        "id": "0uVh9qDOQfy7",
        "outputId": "c9b1e0ee-20e5-40e1-ae9c-14d927fb7c0b"
      },
      "outputs": [],
      "source": [
        "combined_echodata = ep.combine_echodata(echodata)"
      ]
    },
    {
      "cell_type": "markdown",
      "metadata": {
        "id": "PeGUN31DF9eY"
      },
      "source": [
        "## Plot the Volume Backscattering Strength, Sv\n",
        "\n",
        "Echopype has built in methods to easily plot data echodata. To learn more, read the documentation [here](https://echopype.readthedocs.io/en/stable/viz.html)."
      ]
    },
    {
      "cell_type": "code",
      "execution_count": null,
      "metadata": {
        "colab": {
          "base_uri": "https://localhost:8080/",
          "height": 984
        },
        "id": "y1zKbXtVGaiw",
        "outputId": "1cc7f2a2-837d-4ec1-e40e-2f7d8f515fd7"
      },
      "outputs": [],
      "source": [
        "epviz.create_echogram(combined_echodata, get_range=True, robust=True)"
      ]
    },
    {
      "cell_type": "markdown",
      "metadata": {
        "id": "PH_B9pG1YyT9"
      },
      "source": [
        "## Calibrate the Data\n",
        "\n",
        "Volume backscattering strength (Sv) from raw data can be computed as follows:"
      ]
    },
    {
      "cell_type": "code",
      "execution_count": null,
      "metadata": {
        "id": "HhVoxCS6RSB2"
      },
      "outputs": [],
      "source": [
        "ds_Sv = ep.calibrate.compute_Sv(combined_echodata)"
      ]
    },
    {
      "cell_type": "code",
      "execution_count": null,
      "metadata": {
        "colab": {
          "base_uri": "https://localhost:8080/",
          "height": 360
        },
        "id": "A2GMz8CsSnRQ",
        "outputId": "42089104-2c7e-4808-e5a3-087555903af0"
      },
      "outputs": [],
      "source": [
        "ds_Sv"
      ]
    },
    {
      "cell_type": "code",
      "execution_count": null,
      "metadata": {
        "colab": {
          "base_uri": "https://localhost:8080/",
          "height": 260
        },
        "id": "f3UaXmHKSlsH",
        "outputId": "d2b9ed60-2f37-4adf-e63d-e382efb2f97c"
      },
      "outputs": [],
      "source": [
        "ds_Sv.coords['channel']"
      ]
    },
    {
      "cell_type": "markdown",
      "metadata": {
        "id": "JbA_ODRuZGav"
      },
      "source": [
        "Because the coordinates of an echopype Dataset are defined by \"channel,\" we can swap the dimensions to organize them by \"frequency\" instead."
      ]
    },
    {
      "cell_type": "code",
      "execution_count": null,
      "metadata": {
        "id": "_gvXcKEGSpn7"
      },
      "outputs": [],
      "source": [
        "ds_Sv_freq = ep.consolidate.swap_dims_channel_frequency(ds_Sv)"
      ]
    },
    {
      "cell_type": "markdown",
      "metadata": {
        "id": "TZ1j3F-cSrXT"
      },
      "source": [
        "The updated \"ds_Sv_freq\" variable now has a coordinate axis defined by the ordinal \"frequency_nominal\" value versus the previous string-like \"channel\" as seen in the ds_Sv variable above. This allows data to be subsetted by \"frequency\" when plotting."
      ]
    },
    {
      "cell_type": "code",
      "execution_count": null,
      "metadata": {
        "colab": {
          "base_uri": "https://localhost:8080/",
          "height": 378
        },
        "id": "yBUkYkmnSq-A",
        "outputId": "7682ff08-b550-4c0e-db77-fa6d986946d6"
      },
      "outputs": [],
      "source": [
        "ds_Sv_freq"
      ]
    },
    {
      "cell_type": "code",
      "execution_count": null,
      "metadata": {
        "colab": {
          "base_uri": "https://localhost:8080/",
          "height": 518
        },
        "id": "PXqpWAHESvVE",
        "outputId": "fcbd2bc6-65df-4e2e-b5f6-269942a9cdbb"
      },
      "outputs": [],
      "source": [
        "ds_Sv_freq.Sv.sel(frequency_nominal=18000).plot.pcolormesh(x='ping_time', cmap = 'jet', vmin=-80, vmax=-30, yincrease=False)"
      ]
    },
    {
      "cell_type": "markdown",
      "metadata": {
        "id": "Gr-il6P0SyZH"
      },
      "source": [
        "The data in the plot above shows a detected bottom at 19:19:35 that starts near 900 meters and tapers to the botom-right down to ~2,200 meters at 19:20:05. Also interesting to note is that beneath the seabed, two harmonics can also be observed which mirror the shape of the ocean floor.\n",
        "\n",
        "If we would like to further subset the data, we can zoom into the area of interest, here that would entail selecting range_sample(s) between zero and ~2400 meters."
      ]
    },
    {
      "cell_type": "code",
      "execution_count": null,
      "metadata": {
        "colab": {
          "base_uri": "https://localhost:8080/",
          "height": 518
        },
        "id": "xoYnSdQRSvRt",
        "outputId": "323716c5-590e-4408-97f7-924b7bd7f654"
      },
      "outputs": [],
      "source": [
        "ds_Sv_freq.Sv.sel(frequency_nominal=18000, range_sample=slice(0, 2400)).plot.pcolormesh(x='ping_time', cmap = 'jet', vmin=-80, vmax=-30, yincrease=False)"
      ]
    },
    {
      "cell_type": "markdown",
      "metadata": {
        "id": "uJnD2IicToU5"
      },
      "source": [
        "The same plot but selecting data from the 38 kHz frequency instead:"
      ]
    },
    {
      "cell_type": "code",
      "execution_count": null,
      "metadata": {
        "colab": {
          "base_uri": "https://localhost:8080/",
          "height": 518
        },
        "id": "efJ_zUA0TkYF",
        "outputId": "85295b56-d6cf-4afe-867c-a67b012fcb0b"
      },
      "outputs": [],
      "source": [
        "ds_Sv_freq.Sv.sel(frequency_nominal=38000, range_sample=slice(0, 2400)).plot.pcolormesh(x='ping_time', cmap = 'jet', vmin=-80, vmax=-30, yincrease=False)"
      ]
    },
    {
      "cell_type": "markdown",
      "metadata": {
        "id": "Nfz4HV58T07k"
      },
      "source": [
        "And the 70 kHz frequency:"
      ]
    },
    {
      "cell_type": "code",
      "execution_count": null,
      "metadata": {
        "colab": {
          "base_uri": "https://localhost:8080/",
          "height": 518
        },
        "id": "HoI5D2FUTsxF",
        "outputId": "25b722d2-a457-437b-862a-266ad45cf231"
      },
      "outputs": [],
      "source": [
        "ds_Sv_freq.Sv.sel(frequency_nominal=70000, range_sample=slice(0, 2400)).plot.pcolormesh(x='ping_time', cmap = 'jet', vmin=-80, vmax=-30, yincrease=False)"
      ]
    },
    {
      "cell_type": "markdown",
      "metadata": {
        "id": "2mcV5TPcT7Cf"
      },
      "source": [
        "The 120 kHz frequency:"
      ]
    },
    {
      "cell_type": "code",
      "execution_count": null,
      "metadata": {
        "colab": {
          "base_uri": "https://localhost:8080/",
          "height": 518
        },
        "id": "ZQP2pr0oT3hE",
        "outputId": "0c4cf328-027e-4853-d26c-602767823145"
      },
      "outputs": [],
      "source": [
        "ds_Sv_freq.Sv.sel(frequency_nominal=120000, range_sample=slice(0, 2400)).plot.pcolormesh(x='ping_time', cmap = 'jet', vmin=-80, vmax=-30, yincrease=False)"
      ]
    },
    {
      "cell_type": "markdown",
      "metadata": {
        "id": "M1B9hHQXUglx"
      },
      "source": [
        "And finally the 120 kHz frequency:"
      ]
    },
    {
      "cell_type": "code",
      "execution_count": null,
      "metadata": {
        "colab": {
          "base_uri": "https://localhost:8080/",
          "height": 518
        },
        "id": "aCOZxjHIT92g",
        "outputId": "c8046fc8-e99c-4073-9e63-a1ceb3104042"
      },
      "outputs": [],
      "source": [
        "ds_Sv_freq.Sv.sel(frequency_nominal=200000, range_sample=slice(0, 2400)).plot.pcolormesh(x='ping_time', cmap = 'jet', vmin=-80, vmax=-30, yincrease=False)"
      ]
    },
    {
      "cell_type": "markdown",
      "metadata": {
        "id": "YD73fyS5UBwx"
      },
      "source": [
        "Note the change in characteristic of the data with the change in sonar frequency."
      ]
    },
    {
      "cell_type": "markdown",
      "metadata": {
        "id": "f4B7oiVKU4iO"
      },
      "source": [
        "By accessing the data using the underlying Xarray Dataset methods, plots can be further configured and allow for diverse subsetting of the data."
      ]
    },
    {
      "cell_type": "markdown",
      "metadata": {
        "id": "q0_Eh0dxJ0CK"
      },
      "source": [
        "# Data statement\n",
        "All data used in this notebook are publicly available in the [NOAA NCEI Water Column Sonar Data Archive](https://www.ncei.noaa.gov/maps/water-column-sonar/index.html?surveys=SH1507&instruments=EK60)\n",
        "\n",
        "- A copy can also be found in the archive's [NODD AWS bucket](https://noaa-wcsd-pds.s3.amazonaws.com/index.html#data/raw/Bell_M._Shimada/SH1507/EK60)\n",
        "\n",
        "# Acknowledgments\n",
        "Funding support was provided by the NOAA Center for Artificial Intelligence ([NCAI](https://www.noaa.gov/noaa-center-for-artificial-intelligence/)) and [NOAA Fisheries](https://www.fisheries.noaa.gov/)"
      ]
    },
    {
      "cell_type": "markdown",
      "metadata": {
        "id": "b2QqUdzoV4HA"
      },
      "source": [
        "# References\n",
        "\n",
        "\n",
        "*   Lee, W., Mayorga, E., Setiawan, L., Majeed, I., Nguyen, K., & Staneva, V. (2021). Echopype: A Python library for interoperable and scalable processing of water column sonar data for biological information. arXiv preprint arXiv:2111.00187\n",
        "* Lee, W., Nguyen, K., Setiawan, L., Mayorga, E., Reyes, B., Majeed, I., & Staneva, V. (2023). echopype (v0.8.1). Zenodo. https://doi.org/10.5281/zenodo.8312077\n",
        "* National Centers for Environmental Information: Water Column Sonar Data Collection. National Centers for Environmental Information, NOAA. http://doi.org/10.7289/V5HT2M7C.\n",
        "\n"
      ]
    },
    {
      "cell_type": "markdown",
      "metadata": {
        "id": "cCRINklzjyeM"
      },
      "source": [
        "# Metadata\n",
        "- Language / packages(s):\n",
        "    - Language: Python\n",
        "    - Packages: Boto, Echopype, Matplotlib\n",
        "\n",
        "- Scientific domain:\n",
        "    - Fisheries acoustics\n",
        "\n",
        "- Application keywords:\n",
        "    - Sonar processing\n",
        "\n",
        "- Geophysical keywords\n",
        "    - Fish\n",
        "    - Zooplankton\n",
        "    - Seafloor"
      ]
    },
    {
      "cell_type": "markdown",
      "metadata": {
        "id": "mTjTAImwnp87"
      },
      "source": [
        "# License\n",
        "## Software and Content Description License\n",
        "Software code created by U.S. Government employees is not subject to copyright in the United States (17 U.S.C. §105). The United States/Department of Commerce reserve all rights to seek and obtain copyright protection in countries other than the United States for Software authored in its entirety by the Department of Commerce. To this end, the Department of Commerce hereby grants to Recipient a royalty-free, nonexclusive license to use, copy, and create derivative works of the Software outside of the United States.\n",
        "\n",
        "\n"
      ]
    },
    {
      "cell_type": "markdown",
      "metadata": {
        "id": "OnhGEDGOn5wC"
      },
      "source": [
        "# Disclaimer\n",
        "This Jupyter notebook is a scientific product and is not official communication of the National Oceanic and Atmospheric Administration, or the United States Department of Commerce. All NOAA Jupyter notebooks are provided on an 'as is' basis and the user assumes responsibility for its use. Any claims against the Department of Commerce or Department of Commerce bureaus stemming from the use of this Jupyter notebook will be governed by all applicable Federal law. Any reference to specific commercial products, processes, or services by service mark, trademark, manufacturer, or otherwise does not constitute or imply their endorsement, recommendation or favoring by the Department of Commerce. The Department of Commerce seal and logo, or the seal and logo of a DOC bureau, shall not be used in any manner to imply endorsement of any commercial product or activity by DOC or the United States Government."
      ]
    }
  ],
  "metadata": {
    "accelerator": "TPU",
    "colab": {
      "gpuType": "V28",
      "provenance": []
    },
    "kernelspec": {
      "display_name": "Python 3",
      "name": "python3"
    },
    "language_info": {
      "name": "python"
    }
  },
  "nbformat": 4,
  "nbformat_minor": 0
}
