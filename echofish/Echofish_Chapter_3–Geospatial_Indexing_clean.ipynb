{
  "cells": [
    {
      "cell_type": "markdown",
      "metadata": {
        "id": "9GRmJGmTgVUd"
      },
      "source": [
        "# Geospatial Indexing\n",
        "\n",
        "- Creators: Rudy Klucik<sup>1</sup>, Veronica Martinez<sup>1</sup>, Charles Anderson<sup>1</sup>, and Carrie Wall<sup>1</sup>\n",
        "- Affiliations: <sup>1</sup>Cooperative Institute for Research in Environmental Sciences ([CIRES](https://cires.colorado.edu/))\n",
        "- History:\n",
        "    - Version 1, 2024-09-27"
      ]
    },
    {
      "cell_type": "markdown",
      "metadata": {
        "id": "nuxIcVcNJQgB"
      },
      "source": [
        "## Overview\n",
        "This notebook demonstrates a workflow to read timestamps from water column sonar data in Zarr format and convert that data to a GeoJSON format for mapping and GIS. The GeoJSON linestring will define the path of the ship as Sv data was recorded.\n",
        "\n",
        "## Definitions\n",
        "- Sv: water column sonar volume backscattering strength (Sv dB re 1 m-1)\n",
        "- [NMEA](https://en.wikipedia.org/wiki/NMEA_0183): a data specification for communication between marine electronics including echo sounders, sonars, and GPS\n",
        "- Datagram: the binary storage of data inside a file\n",
        "\n",
        "## Prerequisites\n",
        "To successfully navigate and use this notebook, you should be familiar with:\n",
        "\n",
        "- the basics of Python programming such as loading modules, assigning variables, and list/array indexing\n",
        "- plotting data\n",
        "- using `xarray` to access the data\n",
        "\n",
        "## Learning Outcomes\n",
        "By working through this notebook, you will learn how to:\n",
        "\n",
        "- extract navigation data from a Zarr store\n",
        "- use GeoPandas to organize geospatial data into GeoJSON format\n",
        "- plot geospatial data in a mapping interface\n",
        "\n",
        "## Time Estimate\n",
        "- Estimated text reading time: 4 to 8 min\n",
        "- Estimated code reading time: 2 to 4 min\n",
        "- Estimated total reading time: 6 to 12 min\n",
        "\n",
        "## Software\n",
        "This tutorial uses the Python programming language and packages. We will use:\n",
        "\n",
        "- `Boto3` to access data from an S3 bucket\n",
        "- `Zarr` to work with cloud native files\n",
        "- `Xarray` to work with Zarr files and for data analysis\n",
        "- `Numpy` for simple array operations\n",
        "- `Pandas` for creating a dataframe\n",
        "- `GeoPandas` for creating a geospatial dataframe\n",
        "- [`Folium`](https://geopandas.org/en/stable/gallery/plotting_with_folium.html) to plot data"
      ]
    },
    {
      "cell_type": "markdown",
      "metadata": {
        "id": "Q7Ev-LDB-ts5"
      },
      "source": [
        "## Installing and importing libraries\n",
        "\n",
        "We will first need to install a couple python libraries for accessing and processing data. The following code check if the libraries are already installed in your environment and install the missing libraries."
      ]
    },
    {
      "cell_type": "code",
      "execution_count": null,
      "metadata": {
        "id": "ERpqOV3yKcDj"
      },
      "outputs": [],
      "source": [
        "# sys provides access to system level information (i.e., the executable for the Python installation)\n",
        "import sys\n",
        "# subprocess makes system level calls\n",
        "import subprocess\n",
        "\n",
        "# List of packages used in this notebook\n",
        "PACKAGES = [\"numpy\", \"pandas\", \"geopandas\", \"matplotlib\", \"xarray\", \"zarr\", \"folium\", \"boto3\", \"s3fs\"]\n",
        "\n",
        "# Loop through each package to either import or install\n",
        "for package in PACKAGES:\n",
        "    try:\n",
        "        # First, attempt to import the package\n",
        "        __import__(package)\n",
        "    except ImportError:\n",
        "        # If package import is unsuccessful, install using pip\n",
        "        # The command structure is <python executable> -m pip install <package>\n",
        "        if package == 'geopandas': package = 'geopandas==0.13.1'\n",
        "        subprocess.check_call([sys.executable, '-m', 'pip', 'install', package])"
      ]
    },
    {
      "cell_type": "code",
      "execution_count": null,
      "metadata": {
        "id": "Dm6u-3zCFPTj"
      },
      "outputs": [],
      "source": [
        "import s3fs\n",
        "import folium\n",
        "import os\n",
        "import zarr\n",
        "import boto3\n",
        "import numpy as np\n",
        "import pandas as pd\n",
        "import xarray as xr\n",
        "import geopandas as gpd\n",
        "from botocore import UNSIGNED\n",
        "from botocore.config import Config\n",
        "\n",
        "import matplotlib.pyplot as plt"
      ]
    },
    {
      "cell_type": "markdown",
      "metadata": {
        "id": "eW3p-Ycg-0gv"
      },
      "source": [
        "## Access data\n",
        "\n",
        "Data is freely available from the NCEI archives and can be accessed from an AWS S3 bucket. Use boto3 to download a data file.\n",
        "\n",
        "`s3fs` can be used to create a pythonic filesystem interface for S3 for easier navigation of the bucket."
      ]
    },
    {
      "cell_type": "code",
      "execution_count": null,
      "metadata": {
        "id": "cFSjsRCaFj6Z"
      },
      "outputs": [],
      "source": [
        "# Connect to S3 bucket. Use UNSIGNED to connect as an anonymous user\n",
        "s3 = boto3.client('s3', config=Config(signature_version=UNSIGNED))"
      ]
    },
    {
      "cell_type": "code",
      "execution_count": null,
      "metadata": {
        "id": "s8HPND-cGCHI"
      },
      "outputs": [],
      "source": [
        "# raw_file = \"data/raw/Henry_B._Bigelow/HB0707/EK60/D20070712-T201647.raw\""
      ]
    },
    {
      "cell_type": "code",
      "execution_count": null,
      "metadata": {
        "id": "Jyww30AQnD7I"
      },
      "outputs": [],
      "source": [
        "s3_file_system = s3fs.S3FileSystem(anon=True)"
      ]
    },
    {
      "cell_type": "code",
      "execution_count": null,
      "metadata": {
        "id": "tzcfAtTKnGd0"
      },
      "outputs": [],
      "source": [
        "bucket_name = 'noaa-wcsd-zarr-pds'\n",
        "ship_name = 'Bell_M._Shimada'\n",
        "cruise_name = 'SH1507'\n",
        "sensor_name = 'EK60'\n",
        "zarr_store = 'SH1507.zarr'\n",
        "s3_zarr_store_path = f\"{bucket_name}/level_2/{ship_name}/{cruise_name}/{sensor_name}/{zarr_store}\""
      ]
    },
    {
      "cell_type": "code",
      "execution_count": null,
      "metadata": {
        "id": "dvQ1mTEUnIeG"
      },
      "outputs": [],
      "source": [
        "store = s3fs.S3Map(root=s3_zarr_store_path, s3=s3_file_system, check=False)"
      ]
    },
    {
      "cell_type": "code",
      "execution_count": null,
      "metadata": {
        "colab": {
          "base_uri": "https://localhost:8080/",
          "height": 364
        },
        "id": "J7OXiyEmGAZ2",
        "outputId": "65e89f9a-68a9-472d-de8a-8d818637db9d"
      },
      "outputs": [],
      "source": [
        "cruise = xr.open_zarr(store=store, consolidated=None)\n",
        "cruise"
      ]
    },
    {
      "cell_type": "markdown",
      "metadata": {
        "id": "YCoY4An_6nmw"
      },
      "source": [
        "## Extract spatial and temporal data from the Zarr store\n",
        "The GPS coordinates and time stamps can be accessed from the 'cruise'. The 'time' is a coordinate for the underlying data while 'latitude' and 'longitude' are data variables with the same dimension. Essentially, for every vertical measurement of water-column sonar data there is an associated timestamp, a latitude, and a longitude. Each variable can be accessed by name to the Xarray DataArray, e.g. 'cruise.time', or via 'cruise.time.values' to access just the data."
      ]
    },
    {
      "cell_type": "markdown",
      "metadata": {
        "id": "ymAAnK5Ua445"
      },
      "source": [
        "The time DataArray values can be accessed by the coordinate name, 'time' as follows:"
      ]
    },
    {
      "cell_type": "code",
      "execution_count": null,
      "metadata": {
        "colab": {
          "base_uri": "https://localhost:8080/"
        },
        "id": "S8v_WapC6jNP",
        "outputId": "23cb6ec4-c15b-4bed-acb4-339a8383e042"
      },
      "outputs": [],
      "source": [
        "cruise.time"
      ]
    },
    {
      "cell_type": "markdown",
      "metadata": {
        "id": "kneG0REWafuN"
      },
      "source": [
        "The latitude DataArray values can be accessed by name as follows:"
      ]
    },
    {
      "cell_type": "code",
      "execution_count": null,
      "metadata": {
        "colab": {
          "base_uri": "https://localhost:8080/",
          "height": 294
        },
        "id": "GLDtZTgzG7e2",
        "outputId": "3135cc1c-ccda-447b-9a74-06f9d319047b"
      },
      "outputs": [],
      "source": [
        "cruise.latitude"
      ]
    },
    {
      "cell_type": "markdown",
      "metadata": {
        "id": "BLv47iMHazJ1"
      },
      "source": [
        "Longitude values similarly:"
      ]
    },
    {
      "cell_type": "code",
      "execution_count": null,
      "metadata": {
        "colab": {
          "base_uri": "https://localhost:8080/",
          "height": 294
        },
        "id": "uPa5pDVzHBlw",
        "outputId": "8e992179-17d1-4344-d267-d7f6635f2ed8"
      },
      "outputs": [],
      "source": [
        "cruise.longitude"
      ]
    },
    {
      "cell_type": "markdown",
      "metadata": {
        "id": "0R4DX-ycLX1C"
      },
      "source": [
        "Write the gps_df linestring to geojson. GeoJSON is a format for encoding a variety of geographic data structures"
      ]
    },
    {
      "cell_type": "markdown",
      "metadata": {
        "id": "UnSfcsiLXuju"
      },
      "source": [
        "### Creating a GeoPandas DataFrame\n",
        "\n",
        "The latitude, longitude, and timestamps can be combined to create a GeoPandas dataframe as follows:"
      ]
    },
    {
      "cell_type": "code",
      "execution_count": null,
      "metadata": {
        "colab": {
          "base_uri": "https://localhost:8080/",
          "height": 455
        },
        "id": "EplO_6mzLp2X",
        "outputId": "3ea83ccf-b2b0-4b85-e854-a10362f13e0d"
      },
      "outputs": [],
      "source": [
        "# Start by creating a pandas dataframe containing lat, lon, and time for the cruise\n",
        "gps_df = pd.DataFrame({'latitude': cruise.latitude.values, 'longitude': cruise.longitude.values, 'time': cruise.time.values}).set_index(['time'])\n",
        "\n",
        "gps_df"
      ]
    },
    {
      "cell_type": "markdown",
      "metadata": {
        "id": "wNYyly5DMl0R"
      },
      "source": [
        "Create a GeoPandas FeatureCollection indexed by time (missing values are dropped). GeoPandas extends the datatypes used by pandas to allow spatial operations on geometric types."
      ]
    },
    {
      "cell_type": "code",
      "execution_count": null,
      "metadata": {
        "colab": {
          "base_uri": "https://localhost:8080/",
          "height": 455
        },
        "id": "bxg_vzqJMIa2",
        "outputId": "dc67867c-9084-4df4-ea72-6ccaa3439645"
      },
      "outputs": [],
      "source": [
        "gps_gdf = gpd.GeoDataFrame(\n",
        "    gps_df,\n",
        "    geometry=gpd.points_from_xy(gps_df['longitude'], gps_df['latitude']),\n",
        "    crs=\"epsg:4326\"\n",
        ").dropna()\n",
        "\n",
        "gps_gdf"
      ]
    },
    {
      "cell_type": "markdown",
      "metadata": {
        "id": "yMg7a0AOMRKZ"
      },
      "source": [
        "The GeoPandas dataframe can be converted to a GeoJSON format for serialization:"
      ]
    },
    {
      "cell_type": "code",
      "execution_count": null,
      "metadata": {
        "colab": {
          "base_uri": "https://localhost:8080/"
        },
        "id": "NkLcnk_HMOuH",
        "outputId": "0c6d2cbd-cbb1-4897-9335-b3bfd4366576"
      },
      "outputs": [],
      "source": [
        "geojson = gps_gdf.to_json()\n",
        "geojson"
      ]
    },
    {
      "cell_type": "markdown",
      "metadata": {
        "id": "14RYTQq11ydE"
      },
      "source": [
        "### Plotting the Trackline\n",
        "\n",
        "Next we create a geospatial plot of the trackline using GeoPanda's built-in plotting function."
      ]
    },
    {
      "cell_type": "code",
      "execution_count": null,
      "metadata": {
        "colab": {
          "base_uri": "https://localhost:8080/",
          "height": 359
        },
        "id": "PLpZM3YiNv5E",
        "outputId": "6101f7ff-b798-4325-9c19-30f7f9cda8bd"
      },
      "outputs": [],
      "source": [
        "gps_gdf.plot()"
      ]
    },
    {
      "cell_type": "markdown",
      "metadata": {
        "id": "CqEdex_RRZJO"
      },
      "source": [
        "Note the uncertainty assoicated with GPS measurements as the ship moves along its path."
      ]
    },
    {
      "cell_type": "markdown",
      "metadata": {
        "id": "uCnLfZt5pMJh"
      },
      "source": [
        "### Converting Points to a Simplified Linestring\n",
        "\n",
        "Plotting the linestring as below with gps_gdf.explore()."
      ]
    },
    {
      "cell_type": "code",
      "execution_count": null,
      "metadata": {
        "id": "W7eYcqtCO_x6"
      },
      "outputs": [],
      "source": [
        "gps_gdf.index = gps_gdf.index.astype(str)"
      ]
    },
    {
      "cell_type": "code",
      "execution_count": null,
      "metadata": {
        "id": "LNeYca34dWVj"
      },
      "outputs": [],
      "source": [
        "%%capture\n",
        "!pip install mapclassify\n",
        "import mapclassify as mc"
      ]
    },
    {
      "cell_type": "code",
      "execution_count": null,
      "metadata": {
        "colab": {
          "base_uri": "https://localhost:8080/",
          "height": 621
        },
        "id": "lXpPxz7xdTHT",
        "outputId": "8db91af6-99f1-41a6-cb53-639068b50f0d"
      },
      "outputs": [],
      "source": [
        "gps_gdf.explore()"
      ]
    },
    {
      "cell_type": "markdown",
      "metadata": {
        "id": "m-xvvmrVZyPW"
      },
      "source": [
        "### Creating a GeoJSON Linestring\n",
        "\n",
        "Combining all the latitude and longitude values we can create a geometry linestring."
      ]
    },
    {
      "cell_type": "code",
      "execution_count": null,
      "metadata": {
        "id": "1ulx57CyeLkc"
      },
      "outputs": [],
      "source": [
        "import shapely.geometry as geom"
      ]
    },
    {
      "cell_type": "code",
      "execution_count": null,
      "metadata": {
        "id": "jUWtT2ihJQah"
      },
      "outputs": [],
      "source": [
        "linestring = geom.LineString( [xy for xy in zip(gps_gdf.latitude, gps_gdf.longitude)] )"
      ]
    },
    {
      "cell_type": "code",
      "execution_count": null,
      "metadata": {
        "id": "Iuflz-s2ryQ7"
      },
      "outputs": [],
      "source": [
        "#linestring = geom.LineString(gps_gdf['geometry'])"
      ]
    },
    {
      "cell_type": "code",
      "execution_count": null,
      "metadata": {
        "colab": {
          "base_uri": "https://localhost:8080/"
        },
        "id": "7pl-4BQasmhO",
        "outputId": "c37e2767-c2fe-4156-c101-90e684cfea99"
      },
      "outputs": [],
      "source": [
        "len(linestring.coords)"
      ]
    },
    {
      "cell_type": "code",
      "execution_count": null,
      "metadata": {
        "colab": {
          "base_uri": "https://localhost:8080/"
        },
        "id": "zwYBiTdUoI3_",
        "outputId": "7f12191d-7242-4d3f-e2d6-e0afaafa1ae6"
      },
      "outputs": [],
      "source": [
        "linestring.coords[0]"
      ]
    },
    {
      "cell_type": "markdown",
      "metadata": {
        "id": "12PhAlcDeZKB"
      },
      "source": [
        "### Simplification\n",
        "\n",
        "The geometry contains a lot of points to specify the path of the ship's journey. This geometry can simplified using the [Ramer–Douglas–Peucker algorithm](https://en.wikipedia.org/wiki/Ramer%E2%80%93Douglas%E2%80%93Peucker_algorithm). This algorithm finds a geometry that travels the same path and can do so when specified with a single tolerance value, here that value is set to \"0.01.\""
      ]
    },
    {
      "cell_type": "code",
      "execution_count": null,
      "metadata": {
        "id": "FEV2jPTbsT07"
      },
      "outputs": [],
      "source": [
        "lineSimplified = linestring.simplify(tolerance=0.01, preserve_topology=True)"
      ]
    },
    {
      "cell_type": "markdown",
      "metadata": {
        "id": "ctzrs1v4e4Pl"
      },
      "source": [
        "Note how the total number of coordinates needed to specify the linestring drops significantly based on the tolerance value."
      ]
    },
    {
      "cell_type": "code",
      "execution_count": null,
      "metadata": {
        "colab": {
          "base_uri": "https://localhost:8080/"
        },
        "id": "HNkuAlTR7EPI",
        "outputId": "053c2e9d-ac6d-4b03-b8f2-32480ad1b8b1"
      },
      "outputs": [],
      "source": [
        "print(f\"Total number of points for original linestring: {len(linestring.coords)}\")"
      ]
    },
    {
      "cell_type": "code",
      "execution_count": null,
      "metadata": {
        "colab": {
          "base_uri": "https://localhost:8080/"
        },
        "id": "UU6oT7TLe9CV",
        "outputId": "fd572179-211b-46ec-f461-e8e05f248116"
      },
      "outputs": [],
      "source": [
        "print(f\"Total number of points needed for the simplified linestring: {len(lineSimplified.coords)}\")"
      ]
    },
    {
      "cell_type": "markdown",
      "metadata": {
        "id": "lH8R1fUf7osi"
      },
      "source": []
    },
    {
      "cell_type": "code",
      "execution_count": null,
      "metadata": {
        "id": "mxaKZCwBuve4"
      },
      "outputs": [],
      "source": [
        "from IPython.display import display"
      ]
    },
    {
      "cell_type": "markdown",
      "metadata": {
        "id": "O_iCxMLkfK7r"
      },
      "source": [
        "### Plotting the data interactively\n",
        "\n",
        "We can start by roughly calculating the centroid of the area of interest."
      ]
    },
    {
      "cell_type": "code",
      "execution_count": null,
      "metadata": {
        "colab": {
          "base_uri": "https://localhost:8080/"
        },
        "id": "rRNQfk4A8v04",
        "outputId": "84aa4146-38d6-4c89-88a0-0ca0bce26dfb"
      },
      "outputs": [],
      "source": [
        "centroid = gps_gdf.geometry.centroid"
      ]
    },
    {
      "cell_type": "markdown",
      "metadata": {
        "id": "Gd8Le61E81Vb"
      },
      "source": [
        "Next extract the coordinates of the centroid (latitude, longitude)."
      ]
    },
    {
      "cell_type": "code",
      "execution_count": null,
      "metadata": {
        "id": "F1kPL79M80X6"
      },
      "outputs": [],
      "source": [
        "center_latitude = centroid.y.iloc[0]\n",
        "center_longitude = centroid.x.iloc[0]"
      ]
    },
    {
      "cell_type": "markdown",
      "metadata": {
        "id": "ZBDHavKD86fZ"
      },
      "source": [
        "And finally plot the simplified PolyLine of the ships movement throughout the duration of the cruise."
      ]
    },
    {
      "cell_type": "code",
      "execution_count": null,
      "metadata": {
        "colab": {
          "base_uri": "https://localhost:8080/"
        },
        "id": "RpHnsSJm8Asr",
        "outputId": "4b3221d7-097b-47c3-8244-6d46b8630619"
      },
      "outputs": [],
      "source": [
        "m = folium.Map(location=[center_latitude, center_longitude], zoom_start=10)\n",
        "\n",
        "folium.PolyLine(lineSimplified.coords).add_to(m)"
      ]
    },
    {
      "cell_type": "code",
      "execution_count": null,
      "metadata": {
        "colab": {
          "base_uri": "https://localhost:8080/",
          "height": 621
        },
        "id": "B-Kzo47wYDKc",
        "outputId": "0cd7526e-fdf9-4dcf-ff88-ec820da95ee0"
      },
      "outputs": [],
      "source": [
        "display(m)"
      ]
    },
    {
      "cell_type": "markdown",
      "metadata": {
        "id": "HbHDyo0t0uY1"
      },
      "source": [
        "# Data Statement\n",
        "All data used in this notebook are publicly available\n",
        "\n",
        "The Level 2 data can be found here:\n",
        "\n",
        "*   https://noaa-wcsd-zarr-pds.s3.us-east-1.amazonaws.com/level_2/Bell_M._Shimada/SH1507/EK60/SH1507.zarr/\n",
        "\n",
        "\n",
        "The files can be explored by navigating to the following AWS file explorer:\n",
        "\n",
        "*   https://noaa-wcsd-zarr-pds.s3.amazonaws.com/index.html#level_2/Bell_M._Shimada/SH1507/EK60/SH1507.zarr/\n",
        "\n",
        "\n",
        "# Acknowledgments\n",
        "Funding support was provided by the NOAA Center for Artificial Intelligence ([NCAI](https://www.noaa.gov/noaa-center-for-artificial-intelligence/)) and [NOAA Fisheries](https://www.fisheries.noaa.gov/)"
      ]
    },
    {
      "cell_type": "markdown",
      "metadata": {
        "id": "tC9-A5p90-b4"
      },
      "source": [
        "# Metadata\n",
        "- Language / packages(s):\n",
        " - Language: Python\n",
        " - Packages: Boto, Xarray, Zarr, Numpy, Pandas, GeoPandas\n",
        "\n",
        "- Scientific domain:\n",
        " - Fisheries acoustics\n",
        "\n",
        "- Application keywords:\n",
        " - Sonar processing\n",
        "\n",
        "- Geophysical keywords\n",
        " - Spatial location"
      ]
    },
    {
      "cell_type": "markdown",
      "metadata": {
        "id": "HXXALrHp1UiZ"
      },
      "source": [
        "# License\n",
        "## Software and Content Description License\n",
        "Software code created by U.S. Government employees is not subject to copyright in the United States (17 U.S.C. §105). The United States/Department of Commerce reserve all rights to seek and obtain copyright protection in countries other than the United States for Software authored in its entirety by the Department of Commerce. To this end, the Department of Commerce hereby grants to Recipient a royalty-free, nonexclusive license to use, copy, and create derivative works of the Software outside of the United States."
      ]
    },
    {
      "cell_type": "markdown",
      "metadata": {
        "id": "FFp_vq_l1Z3u"
      },
      "source": [
        "# Disclaimer\n",
        "This Jupyter notebook is a scientific product and is not official communication of the National Oceanic and Atmospheric Administration, or the United States Department of Commerce. All NOAA Jupyter notebooks are provided on an 'as is' basis and the user assumes responsibility for its use. Any claims against the Department of Commerce or Department of Commerce bureaus stemming from the use of this Jupyter notebook will be governed by all applicable Federal law. Any reference to specific commercial products, processes, or services by service mark, trademark, manufacturer, or otherwise does not constitute or imply their endorsement, recommendation or favoring by the Department of Commerce. The Department of Commerce seal and logo, or the seal and logo of a DOC bureau, shall not be used in any manner to imply endorsement of any commercial product or activity by DOC or the United States Government."
      ]
    }
  ],
  "metadata": {
    "colab": {
      "provenance": []
    },
    "kernelspec": {
      "display_name": "Python 3",
      "name": "python3"
    },
    "language_info": {
      "name": "python"
    }
  },
  "nbformat": 4,
  "nbformat_minor": 0
}
